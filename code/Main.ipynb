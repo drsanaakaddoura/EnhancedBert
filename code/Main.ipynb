{
 "cells": [
  {
   "cell_type": "code",
   "execution_count": 1,
   "metadata": {
    "colab": {
     "base_uri": "https://localhost:8080/"
    },
    "id": "l6XP9dqZ7E3M",
    "outputId": "1c3dbdca-09d0-4b1d-f171-50fed373acaa"
   },
   "outputs": [
    {
     "name": "stdout",
     "output_type": "stream",
     "text": [
      "The following packages will be installed: 'disambig-bert-unfactored-glf', 'disambig-bert-unfactored-lev', 'disambig-mle-calima-egy-r13', 'disambig-bert-unfactored-msa', 'sentiment-analysis-mbert', 'morphology-db-msa-r13', 'morphology-db-lev-01', 'ner-arabert', 'disambig-mle-calima-msa-r13', 'disambig-ranking-cache-calima-glf-01', 'disambig-bert-unfactored-egy', 'dialectid-model26', 'dialectid-model6', 'morphology-db-msa-s31', 'sentiment-analysis-arabert', 'disambig-ranking-cache-calima-msa-r13', 'disambig-ranking-cache-calima-egy-r13', 'morphology-db-egy-r13', 'morphology-db-glf-01', 'disambig-ranking-cache-calima-lev-01'\n",
      "Downloading package 'disambig-bert-unfactored-glf': 100%|\u001b[32m█\u001b[0m| 442M/442M [00:01<00:\u001b[0m\n",
      "Extracting package 'disambig-bert-unfactored-glf': 100%|\u001b[32m█\u001b[0m| 442M/442M [00:00<00:0\u001b[0m\n",
      "Downloading package 'disambig-bert-unfactored-lev': 100%|\u001b[32m█\u001b[0m| 441M/441M [00:01<00:\u001b[0m\n",
      "Extracting package 'disambig-bert-unfactored-lev': 100%|\u001b[32m█\u001b[0m| 441M/441M [00:00<00:0\u001b[0m\n",
      "Downloading package 'disambig-mle-calima-egy-r13': 100%|\u001b[32m█\u001b[0m| 27.2M/27.2M [00:00<00\u001b[0m\n",
      "Extracting package 'disambig-mle-calima-egy-r13': 100%|\u001b[32m█\u001b[0m| 27.2M/27.2M [00:00<00:\u001b[0m\n",
      "Downloading package 'disambig-bert-unfactored-msa': 100%|\u001b[32m█\u001b[0m| 445M/445M [00:01<00:\u001b[0m\n",
      "Extracting package 'disambig-bert-unfactored-msa': 100%|\u001b[32m█\u001b[0m| 445M/445M [00:00<00:0\u001b[0m\n",
      "Downloading package 'sentiment-analysis-mbert': 100%|\u001b[32m█\u001b[0m| 712M/712M [00:02<00:00, \u001b[0m\n",
      "Extracting package 'sentiment-analysis-mbert': 100%|\u001b[32m█\u001b[0m| 712M/712M [00:00<00:00, 7\u001b[0m\n",
      "Downloading package 'morphology-db-msa-r13': 100%|\u001b[32m█\u001b[0m| 40.5M/40.5M [00:00<00:00, 3\u001b[0m\n",
      "Extracting package 'morphology-db-msa-r13': 100%|\u001b[32m█\u001b[0m| 40.5M/40.5M [00:00<00:00, 74\u001b[0m\n",
      "Downloading package 'morphology-db-lev-01': 100%|\u001b[32m█\u001b[0m| 10.6M/10.6M [00:00<00:00, 23\u001b[0m\n",
      "Extracting package 'morphology-db-lev-01': 100%|\u001b[32m█\u001b[0m| 10.6M/10.6M [00:00<00:00, 590\u001b[0m\n",
      "Downloading package 'ner-arabert': 100%|\u001b[32m██████\u001b[0m| 542M/542M [00:01<00:00, 326MB/s]\u001b[0m\n",
      "Extracting package 'ner-arabert': 100%|\u001b[32m███████\u001b[0m| 542M/542M [00:00<00:00, 722MB/s]\u001b[0m\n",
      "Downloading package 'disambig-mle-calima-msa-r13': 100%|\u001b[32m█\u001b[0m| 88.7M/88.7M [00:00<00\u001b[0m\n",
      "Extracting package 'disambig-mle-calima-msa-r13': 100%|\u001b[32m█\u001b[0m| 88.7M/88.7M [00:00<00:\u001b[0m\n",
      "Downloading package 'disambig-ranking-cache-calima-glf-01': 100%|\u001b[32m█\u001b[0m| 28.7M/28.7M \u001b[0m\n",
      "Extracting package 'disambig-ranking-cache-calima-glf-01': 100%|\u001b[32m█\u001b[0m| 28.7M/28.7M [\u001b[0m\n",
      "Downloading package 'disambig-bert-unfactored-egy': 100%|\u001b[32m█\u001b[0m| 446M/446M [00:01<00:\u001b[0m\n",
      "Extracting package 'disambig-bert-unfactored-egy': 100%|\u001b[32m█\u001b[0m| 446M/446M [00:00<00:0\u001b[0m\n",
      "Downloading package 'dialectid-model26': 100%|\u001b[32m█\u001b[0m| 371M/371M [00:01<00:00, 259MB/s\u001b[0m\n",
      "Extracting package 'dialectid-model26': 100%|\u001b[32m█\u001b[0m| 371M/371M [00:00<00:00, 808MB/s]\u001b[0m\n",
      "Downloading package 'dialectid-model6': 100%|\u001b[32m█\u001b[0m| 153M/153M [00:00<00:00, 440MB/s]\u001b[0m\n",
      "Extracting package 'dialectid-model6': 100%|\u001b[32m██\u001b[0m| 153M/153M [00:00<00:00, 771MB/s]\u001b[0m\n",
      "Downloading package 'morphology-db-msa-s31': 100%|\u001b[32m█\u001b[0m| 44.8M/44.8M [00:00<00:00, 3\u001b[0m\n",
      "Extracting package 'morphology-db-msa-s31': 100%|\u001b[32m█\u001b[0m| 44.8M/44.8M [00:00<00:00, 67\u001b[0m\n",
      "Downloading package 'sentiment-analysis-arabert': 100%|\u001b[32m█\u001b[0m| 542M/542M [00:01<00:00\u001b[0m\n",
      "Extracting package 'sentiment-analysis-arabert': 100%|\u001b[32m█\u001b[0m| 542M/542M [00:00<00:00,\u001b[0m\n",
      "Downloading package 'disambig-ranking-cache-calima-msa-r13': 100%|\u001b[32m█\u001b[0m| 556M/556M [\u001b[0m\n",
      "Extracting package 'disambig-ranking-cache-calima-msa-r13': 100%|\u001b[32m█\u001b[0m| 556M/556M [0\u001b[0m\n",
      "Downloading package 'disambig-ranking-cache-calima-egy-r13': 100%|\u001b[32m█\u001b[0m| 320M/320M [\u001b[0m\n",
      "Extracting package 'disambig-ranking-cache-calima-egy-r13': 100%|\u001b[32m█\u001b[0m| 320M/320M [0\u001b[0m\n",
      "Downloading package 'morphology-db-egy-r13': 100%|\u001b[32m█\u001b[0m| 67.3M/67.3M [00:00<00:00, 2\u001b[0m\n",
      "Extracting package 'morphology-db-egy-r13': 100%|\u001b[32m█\u001b[0m| 67.3M/67.3M [00:00<00:00, 72\u001b[0m\n",
      "Downloading package 'morphology-db-glf-01': 100%|\u001b[32m█\u001b[0m| 7.98M/7.98M [00:00<00:00, 33\u001b[0m\n",
      "Extracting package 'morphology-db-glf-01': 100%|\u001b[32m█\u001b[0m| 7.98M/7.98M [00:00<00:00, 760\u001b[0m\n",
      "Downloading package 'disambig-ranking-cache-calima-lev-01': 100%|\u001b[32m█\u001b[0m| 23.2M/23.2M \u001b[0m\n",
      "Extracting package 'disambig-ranking-cache-calima-lev-01': 100%|\u001b[32m█\u001b[0m| 23.2M/23.2M [\u001b[0m\n"
     ]
    }
   ],
   "source": [
    "!camel_data -i all"
   ]
  },
  {
   "cell_type": "code",
   "execution_count": 1,
   "metadata": {
    "colab": {
     "base_uri": "https://localhost:8080/",
     "height": 293
    },
    "id": "go13DC_lFHaF",
    "outputId": "e7df0a89-dcf0-4e2e-ced6-eaefbc4d32b4"
   },
   "outputs": [
    {
     "data": {
      "text/html": [
       "<div>\n",
       "<style scoped>\n",
       "    .dataframe tbody tr th:only-of-type {\n",
       "        vertical-align: middle;\n",
       "    }\n",
       "\n",
       "    .dataframe tbody tr th {\n",
       "        vertical-align: top;\n",
       "    }\n",
       "\n",
       "    .dataframe thead th {\n",
       "        text-align: right;\n",
       "    }\n",
       "</style>\n",
       "<table border=\"1\" class=\"dataframe\">\n",
       "  <thead>\n",
       "    <tr style=\"text-align: right;\">\n",
       "      <th></th>\n",
       "      <th>Target_ID</th>\n",
       "      <th>Target_Word</th>\n",
       "      <th>Label</th>\n",
       "      <th>Sentence</th>\n",
       "      <th>Gloss</th>\n",
       "      <th>POS</th>\n",
       "      <th>Freq</th>\n",
       "      <th>start_index</th>\n",
       "      <th>end_index</th>\n",
       "    </tr>\n",
       "  </thead>\n",
       "  <tbody>\n",
       "    <tr>\n",
       "      <th>0</th>\n",
       "      <td>s0001.t0001</td>\n",
       "      <td>اب</td>\n",
       "      <td>1</td>\n",
       "      <td>كشفت دراسة جديدة أن عناق الأب مهم جدا بالنسبة ...</td>\n",
       "      <td>والد الشخص.</td>\n",
       "      <td>Noun</td>\n",
       "      <td>82</td>\n",
       "      <td>5</td>\n",
       "      <td>6</td>\n",
       "    </tr>\n",
       "    <tr>\n",
       "      <th>1</th>\n",
       "      <td>s0001.t0001</td>\n",
       "      <td>اب</td>\n",
       "      <td>0</td>\n",
       "      <td>كشفت دراسة جديدة أن عناق الأب مهم جدا بالنسبة ...</td>\n",
       "      <td>اسم الشهر الثامن من السنة السريانيّة</td>\n",
       "      <td>Noun</td>\n",
       "      <td>82</td>\n",
       "      <td>5</td>\n",
       "      <td>6</td>\n",
       "    </tr>\n",
       "    <tr>\n",
       "      <th>2</th>\n",
       "      <td>s0001.t0001</td>\n",
       "      <td>اب</td>\n",
       "      <td>0</td>\n",
       "      <td>كشفت دراسة جديدة أن عناق الأب مهم جدا بالنسبة ...</td>\n",
       "      <td>لقب كنسي لرجل الدين المسيحي.</td>\n",
       "      <td>Noun</td>\n",
       "      <td>82</td>\n",
       "      <td>5</td>\n",
       "      <td>6</td>\n",
       "    </tr>\n",
       "    <tr>\n",
       "      <th>3</th>\n",
       "      <td>s0002.t0001</td>\n",
       "      <td>اب</td>\n",
       "      <td>1</td>\n",
       "      <td>الأم التي تقوم بدورين في آن واحد بسبب غياب الأ...</td>\n",
       "      <td>والد الشخص.</td>\n",
       "      <td>Noun</td>\n",
       "      <td>82</td>\n",
       "      <td>9</td>\n",
       "      <td>10</td>\n",
       "    </tr>\n",
       "    <tr>\n",
       "      <th>4</th>\n",
       "      <td>s0002.t0001</td>\n",
       "      <td>اب</td>\n",
       "      <td>0</td>\n",
       "      <td>الأم التي تقوم بدورين في آن واحد بسبب غياب الأ...</td>\n",
       "      <td>اسم الشهر الثامن من السنة السريانيّة</td>\n",
       "      <td>Noun</td>\n",
       "      <td>82</td>\n",
       "      <td>9</td>\n",
       "      <td>10</td>\n",
       "    </tr>\n",
       "  </tbody>\n",
       "</table>\n",
       "</div>"
      ],
      "text/plain": [
       "     Target_ID Target_Word  Label  \\\n",
       "0  s0001.t0001          اب      1   \n",
       "1  s0001.t0001          اب      0   \n",
       "2  s0001.t0001          اب      0   \n",
       "3  s0002.t0001          اب      1   \n",
       "4  s0002.t0001          اب      0   \n",
       "\n",
       "                                            Sentence  \\\n",
       "0  كشفت دراسة جديدة أن عناق الأب مهم جدا بالنسبة ...   \n",
       "1  كشفت دراسة جديدة أن عناق الأب مهم جدا بالنسبة ...   \n",
       "2  كشفت دراسة جديدة أن عناق الأب مهم جدا بالنسبة ...   \n",
       "3  الأم التي تقوم بدورين في آن واحد بسبب غياب الأ...   \n",
       "4  الأم التي تقوم بدورين في آن واحد بسبب غياب الأ...   \n",
       "\n",
       "                                  Gloss   POS  Freq  start_index  end_index  \n",
       "0                           والد الشخص.  Noun    82            5          6  \n",
       "1  اسم الشهر الثامن من السنة السريانيّة  Noun    82            5          6  \n",
       "2          لقب كنسي لرجل الدين المسيحي.  Noun    82            5          6  \n",
       "3                           والد الشخص.  Noun    82            9         10  \n",
       "4  اسم الشهر الثامن من السنة السريانيّة  Noun    82            9         10  "
      ]
     },
     "execution_count": 1,
     "metadata": {},
     "output_type": "execute_result"
    }
   ],
   "source": [
    "from data_reshaping import DataReshaping\n",
    "\n",
    "# Example usage:\n",
    "data_path = '/data/WSD_Arabic_Dataset.xlsx'\n",
    "pos_path = '/data/part-of-speech.xlsx'\n",
    "freq_path = '/data/Term_frequency.xlsx'\n",
    "index_path = '/data/Index_term.xlsx'\n",
    "\n",
    "disambiguator = DataReshaping(data_path, pos_path, freq_path, index_path)\n",
    "token_pos_freq, ws_pos_freq = disambiguator.get_result()\n",
    "\n",
    "# Output the results\n",
    "token_pos_freq.head()"
   ]
  },
  {
   "cell_type": "code",
   "execution_count": 2,
   "metadata": {
    "colab": {
     "base_uri": "https://localhost:8080/",
     "height": 293
    },
    "id": "P5WZm9CBD02L",
    "outputId": "1acbacd8-aa4a-41c6-a0e6-925f72959b49"
   },
   "outputs": [
    {
     "data": {
      "text/html": [
       "<div>\n",
       "<style scoped>\n",
       "    .dataframe tbody tr th:only-of-type {\n",
       "        vertical-align: middle;\n",
       "    }\n",
       "\n",
       "    .dataframe tbody tr th {\n",
       "        vertical-align: top;\n",
       "    }\n",
       "\n",
       "    .dataframe thead th {\n",
       "        text-align: right;\n",
       "    }\n",
       "</style>\n",
       "<table border=\"1\" class=\"dataframe\">\n",
       "  <thead>\n",
       "    <tr style=\"text-align: right;\">\n",
       "      <th></th>\n",
       "      <th>Target_ID</th>\n",
       "      <th>Target_Word</th>\n",
       "      <th>Label</th>\n",
       "      <th>Sentence</th>\n",
       "      <th>POS</th>\n",
       "      <th>Freq</th>\n",
       "      <th>start_index</th>\n",
       "      <th>end_index</th>\n",
       "      <th>Gloss_Pair</th>\n",
       "    </tr>\n",
       "  </thead>\n",
       "  <tbody>\n",
       "    <tr>\n",
       "      <th>0</th>\n",
       "      <td>s0001.t0001</td>\n",
       "      <td>اب</td>\n",
       "      <td>1</td>\n",
       "      <td>كشفت دراسة جديدة أن عناق \"الأب\" مهم جدا بالنسب...</td>\n",
       "      <td>5</td>\n",
       "      <td>82</td>\n",
       "      <td>5</td>\n",
       "      <td>6</td>\n",
       "      <td>اب: والد الشخص.</td>\n",
       "    </tr>\n",
       "    <tr>\n",
       "      <th>1</th>\n",
       "      <td>s0001.t0001</td>\n",
       "      <td>اب</td>\n",
       "      <td>0</td>\n",
       "      <td>كشفت دراسة جديدة أن عناق \"الأب\" مهم جدا بالنسب...</td>\n",
       "      <td>5</td>\n",
       "      <td>82</td>\n",
       "      <td>5</td>\n",
       "      <td>6</td>\n",
       "      <td>اب: اسم الشهر الثامن من السنة السريانيّة</td>\n",
       "    </tr>\n",
       "    <tr>\n",
       "      <th>2</th>\n",
       "      <td>s0001.t0001</td>\n",
       "      <td>اب</td>\n",
       "      <td>0</td>\n",
       "      <td>كشفت دراسة جديدة أن عناق \"الأب\" مهم جدا بالنسب...</td>\n",
       "      <td>5</td>\n",
       "      <td>82</td>\n",
       "      <td>5</td>\n",
       "      <td>6</td>\n",
       "      <td>اب: لقب كنسي لرجل الدين المسيحي.</td>\n",
       "    </tr>\n",
       "    <tr>\n",
       "      <th>3</th>\n",
       "      <td>s0002.t0001</td>\n",
       "      <td>اب</td>\n",
       "      <td>1</td>\n",
       "      <td>الأم التي تقوم بدورين في آن واحد بسبب غياب \"ال...</td>\n",
       "      <td>5</td>\n",
       "      <td>82</td>\n",
       "      <td>9</td>\n",
       "      <td>10</td>\n",
       "      <td>اب: والد الشخص.</td>\n",
       "    </tr>\n",
       "    <tr>\n",
       "      <th>4</th>\n",
       "      <td>s0002.t0001</td>\n",
       "      <td>اب</td>\n",
       "      <td>0</td>\n",
       "      <td>الأم التي تقوم بدورين في آن واحد بسبب غياب \"ال...</td>\n",
       "      <td>5</td>\n",
       "      <td>82</td>\n",
       "      <td>9</td>\n",
       "      <td>10</td>\n",
       "      <td>اب: اسم الشهر الثامن من السنة السريانيّة</td>\n",
       "    </tr>\n",
       "  </tbody>\n",
       "</table>\n",
       "</div>"
      ],
      "text/plain": [
       "     Target_ID Target_Word  Label  \\\n",
       "0  s0001.t0001          اب      1   \n",
       "1  s0001.t0001          اب      0   \n",
       "2  s0001.t0001          اب      0   \n",
       "3  s0002.t0001          اب      1   \n",
       "4  s0002.t0001          اب      0   \n",
       "\n",
       "                                            Sentence  POS  Freq  start_index  \\\n",
       "0  كشفت دراسة جديدة أن عناق \"الأب\" مهم جدا بالنسب...    5    82            5   \n",
       "1  كشفت دراسة جديدة أن عناق \"الأب\" مهم جدا بالنسب...    5    82            5   \n",
       "2  كشفت دراسة جديدة أن عناق \"الأب\" مهم جدا بالنسب...    5    82            5   \n",
       "3  الأم التي تقوم بدورين في آن واحد بسبب غياب \"ال...    5    82            9   \n",
       "4  الأم التي تقوم بدورين في آن واحد بسبب غياب \"ال...    5    82            9   \n",
       "\n",
       "   end_index                                Gloss_Pair  \n",
       "0          6                           اب: والد الشخص.  \n",
       "1          6  اب: اسم الشهر الثامن من السنة السريانيّة  \n",
       "2          6          اب: لقب كنسي لرجل الدين المسيحي.  \n",
       "3         10                           اب: والد الشخص.  \n",
       "4         10  اب: اسم الشهر الثامن من السنة السريانيّة  "
      ]
     },
     "execution_count": 2,
     "metadata": {},
     "output_type": "execute_result"
    }
   ],
   "source": [
    "# Create word-to-index dictionary\n",
    "word_to_index = {word: index for index, word in enumerate(set(token_pos_freq['POS'].values))}\n",
    "\n",
    "# Convert words to indices\n",
    "word_indices = [word_to_index[word] for word in token_pos_freq['POS']]\n",
    "\n",
    "token_pos_freq['POS'] = word_indices\n",
    "ws_pos_freq['POS'] = word_indices\n",
    "\n",
    "ws_pos_freq.head()"
   ]
  },
  {
   "cell_type": "code",
   "execution_count": 3,
   "metadata": {
    "id": "m19G1sfzGzs9"
   },
   "outputs": [],
   "source": [
    "import torch\n",
    "from transformers import AutoModelForSequenceClassification\n",
    "import os\n",
    "import torch.nn as nn\n",
    "from ensemble import EnsembleBERT\n",
    "from preprocess import (preprocess_ws_freq,\n",
    "                        preprocess_ws_pos,\n",
    "                        preprocess_ws)"
   ]
  },
  {
   "cell_type": "code",
   "execution_count": 4,
   "metadata": {
    "id": "FFKLBOdmG3Hm"
   },
   "outputs": [],
   "source": [
    "model1 = AutoModelForSequenceClassification.from_pretrained('/data/pos_model')\n",
    "model2 = AutoModelForSequenceClassification.from_pretrained('/data/freq_model')\n",
    "model3 = AutoModelForSequenceClassification.from_pretrained('/data/ws_pos_model')\n",
    "model4 = AutoModelForSequenceClassification.from_pretrained('/data/ws_model')\n",
    "model5 = AutoModelForSequenceClassification.from_pretrained('/data/ws_freq_model')"
   ]
  },
  {
   "cell_type": "code",
   "execution_count": 5,
   "metadata": {
    "id": "VbdcAVCYG6f-"
   },
   "outputs": [],
   "source": [
    "ensemble_model = EnsembleBERT(model1, model2, model3, model4, model5)"
   ]
  },
  {
   "cell_type": "code",
   "execution_count": 6,
   "metadata": {
    "id": "OwtIzUWzG8v1"
   },
   "outputs": [],
   "source": [
    "sample_pos = preprocess_ws_pos(token_pos_freq['Sentence'], token_pos_freq['Gloss'],\n",
    "                       token_pos_freq['POS'], token_pos_freq['start_index'],\n",
    "                       token_pos_freq['end_index'], 'enhancedBERTmodel')\n",
    "sample_freq = preprocess_ws_freq(token_pos_freq['Sentence'], token_pos_freq['Gloss'],\n",
    "                        token_pos_freq['Freq'], 'enhancedBERTmodel')\n",
    "sample_ws_pos = preprocess_ws_pos(ws_pos_freq['Sentence'], ws_pos_freq['Gloss_Pair'],\n",
    "                       ws_pos_freq['POS'], ws_pos_freq['start_index'],\n",
    "                       ws_pos_freq['end_index'], 'enhancedBERTmodel')\n",
    "sample_ws = preprocess_ws(ws_pos_freq['Sentence'], ws_pos_freq['Gloss_Pair'], 'enhancedBERTmodel')\n",
    "sample_ws_freq = preprocess_ws_freq(ws_pos_freq['Sentence'], ws_pos_freq['Gloss_Pair'], ws_pos_freq['Freq'], 'enhancedBERTmodel')"
   ]
  },
  {
   "cell_type": "code",
   "execution_count": 13,
   "metadata": {
    "id": "0T5P9ABFP4gB",
    "scrolled": true
   },
   "outputs": [
    {
     "name": "stdout",
     "output_type": "stream",
     "text": [
      "Predicted label: [1, 0, 0, 1, 0, 0, 1, 0, 0, 1, 0, 0, 1, 0, 0, 1, 0, 0, 1, 0, 0, 1, 0, 0, 1, 0, 0, 1, 0, 0, 0, 1, 0, 0, 1, 0, 0, 1, 0, 0, 1, 0, 0, 1, 0, 0, 1, 0, 0, 1, 0, 0, 1, 0, 0, 1, 0, 0, 1, 0, 0, 0, 1, 0, 0, 1, 0, 0, 1, 0, 0, 1, 0, 0, 1, 0, 0, 1, 0, 0, 1, 0, 0, 1, 0, 0, 1, 0, 0, 1, 1, 0, 0, 0, 1, 0, 0, 0, 1, 0, 0, 0, 1, 0, 0, 0, 1, 0, 0, 0, 1, 0, 0, 0, 1, 0, 0, 0, 1, 0, 0, 0, 1, 0, 0, 0, 1, 0, 0, 0, 0, 1, 0, 0, 0, 1, 0, 0, 0, 1, 0, 0, 0, 1, 0, 0, 0, 1, 0, 0, 0, 1, 0, 0, 0, 1, 0, 0, 0, 1, 0, 0, 0, 1, 0, 0, 0, 1, 0, 0, 0, 0, 1, 0, 0, 0, 1, 0, 0, 0, 1, 0, 0, 0, 1, 0, 0, 0, 1, 0, 0, 0, 1, 0, 0, 0, 1, 0, 0, 0, 1, 0, 0, 0, 1, 0, 0, 0, 1, 0, 0, 0, 0, 1, 0, 0, 0, 1, 0, 0, 0, 1, 0, 0, 0, 1, 0, 0, 0, 1, 0, 0, 0, 1, 0, 0, 0, 1, 0, 0, 0, 1, 0, 0, 0, 1, 0, 0, 0, 1, 1, 0, 0, 0, 0, 1, 0, 0, 0, 0, 1, 0, 0, 0, 0, 1, 0, 0, 0, 0, 1, 0, 0, 0, 0, 1, 0, 0, 0, 0, 1, 0, 0, 0, 0, 1, 0, 0, 0, 0, 1, 0, 0, 0, 0, 1, 0, 0, 0, 0, 0, 1, 0, 0, 0, 0, 1, 0, 0, 0, 0, 1, 0, 0, 0, 0, 1, 0, 0, 0, 0, 1, 0, 0, 0, 0, 1, 0, 0, 0, 0, 1, 0, 0, 0, 0, 1, 0, 0, 0, 0, 1, 0, 0, 0, 0, 1, 0, 0, 0, 0, 0, 1, 0, 0, 0, 0, 1, 0, 0, 0, 0, 1, 0, 0, 0, 0, 1, 0, 0, 0, 0, 1, 0, 0, 0, 0, 1, 0, 0, 0, 0, 1, 0, 0, 0, 0, 1, 0, 0, 0, 0, 1, 0, 0, 0, 0, 1, 0, 0, 0, 0, 0, 1, 0, 0, 0, 0, 1, 0, 0, 0, 0, 1, 0, 0, 0, 0, 1, 0, 0, 0, 0, 1, 0, 0, 0, 0, 1, 0, 0, 0, 0, 1, 0, 0, 0, 0, 1, 0, 0, 0, 0, 1, 0, 0, 0, 0, 1, 0, 0, 0, 0, 0, 1, 0, 0, 0, 0, 1, 0, 0, 0, 0, 1, 0, 0, 0, 0, 1, 0, 0, 0, 0, 1, 0, 0, 0, 0, 1, 0, 0, 0, 0, 1, 0, 0, 0, 0, 1, 0, 0, 0, 0, 1, 0, 0, 0, 0, 0]\n"
     ]
    }
   ],
   "source": [
    "#Test on first 500 samples\n",
    "from time import sleep\n",
    "\n",
    "predictions = []\n",
    "k = 0\n",
    "while k<500:\n",
    "    output = ensemble_model(sample_pos[k], sample_freq[k], sample_ws_pos[k], sample_ws[k], sample_ws_freq[k])\n",
    "    prediction = torch.argmax(output, dim=1)\n",
    "    predictions.append(prediction.item())\n",
    "    sleep(3)\n",
    "    k = k+1\n",
    "\n",
    "print(\"Predicted label:\", predictions)"
   ]
  },
  {
   "cell_type": "code",
   "execution_count": 14,
   "metadata": {},
   "outputs": [],
   "source": [
    "true_labels = ws_pos_freq.Label.values"
   ]
  },
  {
   "cell_type": "code",
   "execution_count": 15,
   "metadata": {
    "id": "vczTdEdnU6qo"
   },
   "outputs": [
    {
     "data": {
      "text/plain": [
       "0.9979971299600283"
      ]
     },
     "execution_count": 15,
     "metadata": {},
     "output_type": "execute_result"
    }
   ],
   "source": [
    "from sklearn.metrics import f1_score\n",
    "f1_score(true_labels[:500], predictions, average = 'weighted')"
   ]
  },
  {
   "cell_type": "code",
   "execution_count": null,
   "metadata": {},
   "outputs": [],
   "source": []
  }
 ],
 "metadata": {
  "colab": {
   "provenance": []
  },
  "kernelspec": {
   "display_name": "Python 3 (ipykernel)",
   "language": "python",
   "name": "python3"
  },
  "language_info": {
   "codemirror_mode": {
    "name": "ipython",
    "version": 3
   },
   "file_extension": ".py",
   "mimetype": "text/x-python",
   "name": "python",
   "nbconvert_exporter": "python",
   "pygments_lexer": "ipython3",
   "version": "3.8.19"
  }
 },
 "nbformat": 4,
 "nbformat_minor": 4
}
